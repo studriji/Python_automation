{
 "cells": [
  {
   "cell_type": "code",
   "execution_count": 11,
   "metadata": {},
   "outputs": [],
   "source": [
    "from openpyxl import Workbook\n",
    "#creates a new workbook\n",
    "wb = Workbook()\n",
    "#Gets the first active worksheet\n",
    "ws = wb.active\n"
   ]
  },
  {
   "cell_type": "code",
   "execution_count": 13,
   "metadata": {},
   "outputs": [],
   "source": [
    "#creating new worksheets by using the create_sheet method\n",
    "\n",
    "ws1 = wb.create_sheet(\"sheet1\", 0) #inserts at first position\n",
    "ws2 = wb.create_sheet(\"sheet2\") #inserts at last position\n",
    "ws3 = wb.create_sheet(\"sheet3\", -1) #inserts at penultimate position/2nd last\n",
    "ws4 = wb.create_sheet(\"sheet4\")\n",
    "\n"
   ]
  },
  {
   "cell_type": "code",
   "execution_count": 14,
   "metadata": {},
   "outputs": [],
   "source": [
    "#Renaming the sheet\n",
    "ws.title = \"Example\"\n",
    "\n",
    "#save the workbook\n",
    "wb.save(filename = \"Aliens.xlsx\")"
   ]
  },
  {
   "cell_type": "code",
   "execution_count": 68,
   "metadata": {},
   "outputs": [
    {
     "data": {
      "text/plain": [
       "['sheet1', 'Example', 'sheet3', 'sheet2', 'sheet4']"
      ]
     },
     "execution_count": 68,
     "metadata": {},
     "output_type": "execute_result"
    }
   ],
   "source": [
    "import openpyxl\n",
    "\n",
    "#loading a workbook\n",
    "wb = openpyxl.load_workbook(\"Aliens.xlsx\")\n",
    "#getting sheet names\n",
    "wb.sheetnames\n",
    "\n",
    "\n"
   ]
  },
  {
   "cell_type": "code",
   "execution_count": 69,
   "metadata": {},
   "outputs": [],
   "source": [
    "#getting a particular sheet\n",
    "sheet1 = wb[\"sheet1\"]\n",
    "\n"
   ]
  },
  {
   "cell_type": "code",
   "execution_count": 70,
   "metadata": {},
   "outputs": [
    {
     "data": {
      "text/plain": [
       "'sheet1'"
      ]
     },
     "execution_count": 70,
     "metadata": {},
     "output_type": "execute_result"
    }
   ],
   "source": [
    "#getting sheet title\n",
    "sheet1.title\n",
    "\n"
   ]
  },
  {
   "cell_type": "code",
   "execution_count": 60,
   "metadata": {},
   "outputs": [
    {
     "data": {
      "text/plain": [
       "<Worksheet \"sheet1\">"
      ]
     },
     "execution_count": 60,
     "metadata": {},
     "output_type": "execute_result"
    }
   ],
   "source": [
    "#Getting the active sheet\n",
    "wb.active\n",
    "\n"
   ]
  },
  {
   "cell_type": "markdown",
   "metadata": {},
   "source": [
    "value from a cell\n"
   ]
  },
  {
   "cell_type": "code",
   "execution_count": 77,
   "metadata": {},
   "outputs": [
    {
     "name": "stdout",
     "output_type": "stream",
     "text": [
      "1000\n"
     ]
    }
   ],
   "source": [
    "import openpyxl\n",
    "\n",
    "#loading a workbook\n",
    "wb = openpyxl.load_workbook(\"Aliens.xlsx\")\n",
    "sheet1 = wb.active\n",
    "#get a cell from the sheet\n",
    "print(sheet1[\"A1\"].value)\n"
   ]
  },
  {
   "cell_type": "markdown",
   "metadata": {},
   "source": [
    "insert value in a cell"
   ]
  },
  {
   "cell_type": "code",
   "execution_count": 86,
   "metadata": {},
   "outputs": [],
   "source": [
    "wb = openpyxl.load_workbook(\"Aliens.xlsx\")\n",
    "sheet1 = wb.active\n",
    "sheet1['B4']=10\n",
    "wb.save('Aliens.xlsx')"
   ]
  },
  {
   "cell_type": "code",
   "execution_count": 88,
   "metadata": {},
   "outputs": [],
   "source": [
    "import openpyxl\n",
    "wb = openpyxl.Workbook()\n",
    "sheet = wb.active\n",
    "sheet['A1'] = 'hello'\n",
    "sheet['B1'] = 'hello'\n",
    "sheet['A2'] = 'hello'\n",
    "sheet['B2'] = 'hello'\n",
    "sheet['A3'] = 'hello'\n",
    "sheet['B3'] = 'hello'\n",
    "\n",
    "\n",
    "wb.save('ISB.xlsx')"
   ]
  },
  {
   "cell_type": "code",
   "execution_count": 91,
   "metadata": {},
   "outputs": [],
   "source": [
    "#insert row and column\n",
    "sheet.insert_cols(1,amount=1)\n",
    "sheet.insert_rows(1,amount=1)\n",
    "wb.save('ISB.xlsx')"
   ]
  },
  {
   "cell_type": "code",
   "execution_count": 94,
   "metadata": {},
   "outputs": [],
   "source": [
    "#merge cells\n",
    "sheet.merge_cells('A1:C3')\n",
    "wb.save('ISB.xlsx')"
   ]
  },
  {
   "cell_type": "code",
   "execution_count": 99,
   "metadata": {},
   "outputs": [],
   "source": [
    "#formula\n",
    "wb = openpyxl.load_workbook(\"Aliens.xlsx\")\n",
    "sheet = wb['Example']\n",
    "sheet['A1'] = 10\n",
    "sheet['A2'] = 20\n",
    "sheet['A3'] = 30\n",
    "sheet['A4'] = 40\n",
    "sheet['A5'] = 50\n",
    "sheet['A6'] = 60\n",
    "\n",
    "sheet['A9'] = '=SUM(A1:A6)'\n",
    "\n",
    "wb.save(\"Aliens.xlsx\")"
   ]
  },
  {
   "cell_type": "markdown",
   "metadata": {},
   "source": [
    "using a dataset"
   ]
  },
  {
   "cell_type": "code",
   "execution_count": 1,
   "metadata": {},
   "outputs": [
    {
     "name": "stdout",
     "output_type": "stream",
     "text": [
      "<class 'pandas.core.frame.DataFrame'>\n",
      "RangeIndex: 10 entries, 0 to 9\n",
      "Data columns (total 6 columns):\n",
      " #   Column   Non-Null Count  Dtype \n",
      "---  ------   --------------  ----- \n",
      " 0   0        10 non-null     int64 \n",
      " 1   Pos      10 non-null     int64 \n",
      " 2   Team     10 non-null     object\n",
      " 3   Matches  10 non-null     int64 \n",
      " 4   Points   10 non-null     int64 \n",
      " 5   Rating   10 non-null     int64 \n",
      "dtypes: int64(5), object(1)\n",
      "memory usage: 608.0+ bytes\n"
     ]
    },
    {
     "data": {
      "text/html": [
       "<div>\n",
       "<style scoped>\n",
       "    .dataframe tbody tr th:only-of-type {\n",
       "        vertical-align: middle;\n",
       "    }\n",
       "\n",
       "    .dataframe tbody tr th {\n",
       "        vertical-align: top;\n",
       "    }\n",
       "\n",
       "    .dataframe thead th {\n",
       "        text-align: right;\n",
       "    }\n",
       "</style>\n",
       "<table border=\"1\" class=\"dataframe\">\n",
       "  <thead>\n",
       "    <tr style=\"text-align: right;\">\n",
       "      <th></th>\n",
       "      <th>0</th>\n",
       "      <th>Pos</th>\n",
       "      <th>Team</th>\n",
       "      <th>Matches</th>\n",
       "      <th>Points</th>\n",
       "      <th>Rating</th>\n",
       "    </tr>\n",
       "  </thead>\n",
       "  <tbody>\n",
       "    <tr>\n",
       "      <th>0</th>\n",
       "      <td>1</td>\n",
       "      <td>1</td>\n",
       "      <td>Australia</td>\n",
       "      <td>27</td>\n",
       "      <td>3208</td>\n",
       "      <td>119</td>\n",
       "    </tr>\n",
       "    <tr>\n",
       "      <th>1</th>\n",
       "      <td>2</td>\n",
       "      <td>2</td>\n",
       "      <td>India</td>\n",
       "      <td>35</td>\n",
       "      <td>4116</td>\n",
       "      <td>118</td>\n",
       "    </tr>\n",
       "    <tr>\n",
       "      <th>2</th>\n",
       "      <td>3</td>\n",
       "      <td>3</td>\n",
       "      <td>New Zealand</td>\n",
       "      <td>31</td>\n",
       "      <td>3561</td>\n",
       "      <td>115</td>\n",
       "    </tr>\n",
       "    <tr>\n",
       "      <th>3</th>\n",
       "      <td>4</td>\n",
       "      <td>4</td>\n",
       "      <td>South Africa</td>\n",
       "      <td>26</td>\n",
       "      <td>2622</td>\n",
       "      <td>101</td>\n",
       "    </tr>\n",
       "    <tr>\n",
       "      <th>4</th>\n",
       "      <td>5</td>\n",
       "      <td>5</td>\n",
       "      <td>England</td>\n",
       "      <td>45</td>\n",
       "      <td>4351</td>\n",
       "      <td>97</td>\n",
       "    </tr>\n",
       "    <tr>\n",
       "      <th>5</th>\n",
       "      <td>6</td>\n",
       "      <td>6</td>\n",
       "      <td>Pakistan</td>\n",
       "      <td>34</td>\n",
       "      <td>3163</td>\n",
       "      <td>93</td>\n",
       "    </tr>\n",
       "    <tr>\n",
       "      <th>6</th>\n",
       "      <td>7</td>\n",
       "      <td>7</td>\n",
       "      <td>Sri Lanka</td>\n",
       "      <td>33</td>\n",
       "      <td>2683</td>\n",
       "      <td>81</td>\n",
       "    </tr>\n",
       "    <tr>\n",
       "      <th>7</th>\n",
       "      <td>8</td>\n",
       "      <td>8</td>\n",
       "      <td>West Indies</td>\n",
       "      <td>37</td>\n",
       "      <td>2984</td>\n",
       "      <td>81</td>\n",
       "    </tr>\n",
       "    <tr>\n",
       "      <th>8</th>\n",
       "      <td>9</td>\n",
       "      <td>9</td>\n",
       "      <td>Bangladesh</td>\n",
       "      <td>22</td>\n",
       "      <td>1157</td>\n",
       "      <td>53</td>\n",
       "    </tr>\n",
       "    <tr>\n",
       "      <th>9</th>\n",
       "      <td>10</td>\n",
       "      <td>10</td>\n",
       "      <td>Zimbabwe</td>\n",
       "      <td>11</td>\n",
       "      <td>342</td>\n",
       "      <td>31</td>\n",
       "    </tr>\n",
       "  </tbody>\n",
       "</table>\n",
       "</div>"
      ],
      "text/plain": [
       "    0  Pos          Team  Matches  Points  Rating\n",
       "0   1    1     Australia       27    3208     119\n",
       "1   2    2         India       35    4116     118\n",
       "2   3    3   New Zealand       31    3561     115\n",
       "3   4    4  South Africa       26    2622     101\n",
       "4   5    5       England       45    4351      97\n",
       "5   6    6      Pakistan       34    3163      93\n",
       "6   7    7     Sri Lanka       33    2683      81\n",
       "7   8    8   West Indies       37    2984      81\n",
       "8   9    9    Bangladesh       22    1157      53\n",
       "9  10   10      Zimbabwe       11     342      31"
      ]
     },
     "execution_count": 1,
     "metadata": {},
     "output_type": "execute_result"
    }
   ],
   "source": [
    "import pandas as pd\n",
    "df = pd.read_csv('D:\\AB projects\\Automation\\linkedin_login\\linkedin\\ICC Test Rankings.csv')\n",
    "df.to_excel('dataset.xlsx')\n",
    "df.info()\n",
    "df"
   ]
  },
  {
   "cell_type": "markdown",
   "metadata": {},
   "source": [
    "FORMULA "
   ]
  },
  {
   "cell_type": "code",
   "execution_count": 27,
   "metadata": {},
   "outputs": [],
   "source": [
    "import openpyxl\n",
    "wb = openpyxl.load_workbook(\"dataset.xlsx\")\n",
    "sheet = wb.active\n",
    "\n",
    "\n",
    "wb.save(\"dataset.xlsx\")"
   ]
  },
  {
   "cell_type": "code",
   "execution_count": 28,
   "metadata": {},
   "outputs": [],
   "source": [
    "wb = openpyxl.load_workbook(\"dataset.xlsx\")\n",
    "sheet = wb.active\n",
    "sheet['I1'] = 'stats category'\n",
    "sheet['J1'] = 'Values'\n",
    "sheet['I2'] = 'Max matches'\n",
    "sheet['J2'] = '=MAX(E3:E12)'\n",
    "\n",
    "wb.save(\"dataset.xlsx\")\n"
   ]
  },
  {
   "cell_type": "code",
   "execution_count": 30,
   "metadata": {},
   "outputs": [],
   "source": [
    "wb = openpyxl.load_workbook(\"dataset.xlsx\")\n",
    "sheet = wb.active\n",
    "sheet['I3'] = 'Max points'\n",
    "sheet['J3'] = '=MAX(F2:F11)'\n",
    "sheet['I4'] = 'Max rating'\n",
    "sheet['J4'] = '=MAX(G2:G11)'\n",
    "wb.save(\"dataset.xlsx\")\n"
   ]
  },
  {
   "cell_type": "code",
   "execution_count": 34,
   "metadata": {},
   "outputs": [],
   "source": [
    "sheet['I5'] = 'Average matches'\n",
    "sheet['J5'] = '=AVERAGE(E2:E11)'\n",
    "sheet['I6'] = 'Average rating'\n",
    "sheet['J6'] = '=AVERAGE(G2:G11)'\n",
    "wb.save(\"dataset.xlsx\")\n"
   ]
  }
 ],
 "metadata": {
  "interpreter": {
   "hash": "031b5320ef911a5da7487fddad47ae114a39d8973a4cc8eb16b8fc054ddbdb04"
  },
  "kernelspec": {
   "display_name": "Python 3.9.8 ('linkedin': venv)",
   "language": "python",
   "name": "python3"
  },
  "language_info": {
   "codemirror_mode": {
    "name": "ipython",
    "version": 3
   },
   "file_extension": ".py",
   "mimetype": "text/x-python",
   "name": "python",
   "nbconvert_exporter": "python",
   "pygments_lexer": "ipython3",
   "version": "3.9.8"
  },
  "orig_nbformat": 4
 },
 "nbformat": 4,
 "nbformat_minor": 2
}
