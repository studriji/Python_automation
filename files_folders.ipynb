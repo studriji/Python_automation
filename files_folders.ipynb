{
 "cells": [
  {
   "cell_type": "code",
   "execution_count": 1,
   "metadata": {},
   "outputs": [
    {
     "data": {
      "text/plain": [
       "'d:\\\\AB projects\\\\Automation\\\\linkedin_login\\\\linkedin'"
      ]
     },
     "execution_count": 1,
     "metadata": {},
     "output_type": "execute_result"
    }
   ],
   "source": [
    "import os\n",
    "\n",
    "os.getcwd() #present working directory"
   ]
  },
  {
   "cell_type": "code",
   "execution_count": 3,
   "metadata": {},
   "outputs": [
    {
     "data": {
      "text/plain": [
       "'C:\\\\Users'"
      ]
     },
     "execution_count": 3,
     "metadata": {},
     "output_type": "execute_result"
    }
   ],
   "source": [
    "os.chdir('C:\\\\Users')  # change directory\n",
    "os.getcwd()\n"
   ]
  },
  {
   "cell_type": "code",
   "execution_count": 5,
   "metadata": {},
   "outputs": [
    {
     "data": {
      "text/plain": [
       "'d:\\\\AB projects\\\\Automation\\\\linkedin_login\\\\linkedin'"
      ]
     },
     "execution_count": 5,
     "metadata": {},
     "output_type": "execute_result"
    }
   ],
   "source": [
    "os.chdir('d:\\\\AB projects\\\\Automation\\\\linkedin_login\\\\linkedin')\n",
    "os.getcwd()"
   ]
  },
  {
   "cell_type": "code",
   "execution_count": 6,
   "metadata": {},
   "outputs": [
    {
     "data": {
      "text/plain": [
       "['.gitignore',\n",
       " 'alarm.mp3',\n",
       " 'alarm.py',\n",
       " 'Aliens.xlsx',\n",
       " 'dictionary.py',\n",
       " 'email_check.py',\n",
       " 'excel.ipynb',\n",
       " 'fb_blocker.py',\n",
       " 'files_folders.ipynb',\n",
       " 'instagram.py',\n",
       " 'ISB.xlsx',\n",
       " 'json_to_excel.py',\n",
       " 'Lib',\n",
       " 'linkedin.py',\n",
       " 'pdf_to_text.py',\n",
       " 'pyvenv.cfg',\n",
       " 'Scripts',\n",
       " 'share',\n",
       " 'sqlite3_database.py',\n",
       " 'wifi_connector.py',\n",
       " 'youtube_playlist_download.py',\n",
       " '__pycache__']"
      ]
     },
     "execution_count": 6,
     "metadata": {},
     "output_type": "execute_result"
    }
   ],
   "source": [
    "os.listdir() #return the list of directories"
   ]
  },
  {
   "cell_type": "code",
   "execution_count": 7,
   "metadata": {},
   "outputs": [],
   "source": [
    "os.mkdir('test') #make a new folder\n"
   ]
  },
  {
   "cell_type": "code",
   "execution_count": 8,
   "metadata": {},
   "outputs": [],
   "source": [
    "os.rename('test','new') #rename"
   ]
  },
  {
   "cell_type": "code",
   "execution_count": 13,
   "metadata": {},
   "outputs": [],
   "source": [
    "#os.remove('new/test.txt') # remove a file\n",
    "os.rmdir('new')"
   ]
  },
  {
   "cell_type": "code",
   "execution_count": 19,
   "metadata": {},
   "outputs": [],
   "source": [
    "os.mkdir('TEST')\n"
   ]
  },
  {
   "cell_type": "code",
   "execution_count": 21,
   "metadata": {},
   "outputs": [],
   "source": [
    "#os.rmdir('TEST') #cannot delete non empty folders\n",
    "import shutil\n",
    "shutil.rmtree('TEST')"
   ]
  },
  {
   "cell_type": "code",
   "execution_count": 28,
   "metadata": {},
   "outputs": [],
   "source": [
    "#os.mkdir('TEST')\n",
    "f = open(\"TEST/test.txt\", \"w\")\n",
    "f.write(\"Now the file has more content!\")\n",
    "f.close()"
   ]
  },
  {
   "cell_type": "code",
   "execution_count": 29,
   "metadata": {},
   "outputs": [],
   "source": [
    "os.rename('TEST/test.txt','TEST/new_test.txt')"
   ]
  },
  {
   "cell_type": "code",
   "execution_count": 31,
   "metadata": {},
   "outputs": [
    {
     "name": "stdout",
     "output_type": "stream",
     "text": [
      "Now the file has more content!\n"
     ]
    }
   ],
   "source": [
    "f = open(\"TEST/new_test.txt\", \"r\")\n",
    "read = f.read()\n",
    "print(read)\n",
    "f.close()"
   ]
  },
  {
   "cell_type": "code",
   "execution_count": 33,
   "metadata": {},
   "outputs": [],
   "source": [
    "f = open(\"TEST/new_test.txt\", \"a\")\n",
    "f.write(\"added new content\")\n",
    "f.close()"
   ]
  },
  {
   "cell_type": "code",
   "execution_count": 34,
   "metadata": {},
   "outputs": [],
   "source": [
    "f = open(\"TEST/new_test.txt\", \"a\")\n",
    "f.write(\"\\nadded new content in next line\")\n",
    "f.close()"
   ]
  }
 ],
 "metadata": {
  "interpreter": {
   "hash": "031b5320ef911a5da7487fddad47ae114a39d8973a4cc8eb16b8fc054ddbdb04"
  },
  "kernelspec": {
   "display_name": "Python 3.9.8 ('linkedin': venv)",
   "language": "python",
   "name": "python3"
  },
  "language_info": {
   "codemirror_mode": {
    "name": "ipython",
    "version": 3
   },
   "file_extension": ".py",
   "mimetype": "text/x-python",
   "name": "python",
   "nbconvert_exporter": "python",
   "pygments_lexer": "ipython3",
   "version": "3.9.8"
  },
  "orig_nbformat": 4
 },
 "nbformat": 4,
 "nbformat_minor": 2
}
